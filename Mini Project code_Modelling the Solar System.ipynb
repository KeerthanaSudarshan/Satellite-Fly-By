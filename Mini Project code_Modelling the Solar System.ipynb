{
 "cells": [
  {
   "cell_type": "markdown",
   "id": "fbb34677",
   "metadata": {},
   "source": [
    "# Modelling the Solar System"
   ]
  },
  {
   "cell_type": "code",
   "execution_count": 1,
   "id": "024754dc",
   "metadata": {},
   "outputs": [
    {
     "data": {
      "text/html": [
       "<div id=\"glowscript\" class=\"glowscript\"></div>"
      ],
      "text/plain": [
       "<IPython.core.display.HTML object>"
      ]
     },
     "metadata": {},
     "output_type": "display_data"
    },
    {
     "data": {
      "application/javascript": [
       "if (typeof Jupyter !== \"undefined\") { window.__context = { glowscript_container: $(\"#glowscript\").removeAttr(\"id\")};}else{ element.textContent = ' ';}"
      ],
      "text/plain": [
       "<IPython.core.display.Javascript object>"
      ]
     },
     "metadata": {},
     "output_type": "display_data"
    }
   ],
   "source": [
    "from vpython import *\n",
    "import numpy as np\n",
    "import matplotlib. pyplot as plt"
   ]
  },
  {
   "cell_type": "markdown",
   "id": "13edb15d",
   "metadata": {},
   "source": [
    "### Scene set-up for modelling"
   ]
  },
  {
   "cell_type": "code",
   "execution_count": 2,
   "id": "35a2c26b",
   "metadata": {},
   "outputs": [
    {
     "data": {
      "text/html": [
       "<div id=\"glowscript\" class=\"glowscript\"></div>"
      ],
      "text/plain": [
       "<IPython.core.display.HTML object>"
      ]
     },
     "metadata": {},
     "output_type": "display_data"
    },
    {
     "data": {
      "application/javascript": [
       "if (typeof Jupyter !== \"undefined\") { window.__context = { glowscript_container: $(\"#glowscript\").removeAttr(\"id\")};}else{ element.textContent = ' ';}"
      ],
      "text/plain": [
       "<IPython.core.display.Javascript object>"
      ]
     },
     "metadata": {},
     "output_type": "display_data"
    }
   ],
   "source": [
    "scene = canvas()"
   ]
  },
  {
   "cell_type": "markdown",
   "id": "614c587a",
   "metadata": {},
   "source": [
    "### Defining constants and calculating initial conditions"
   ]
  },
  {
   "cell_type": "code",
   "execution_count": 3,
   "id": "e49a67af",
   "metadata": {},
   "outputs": [],
   "source": [
    "G = 6.6704e-11\n",
    "\n",
    "#Defining the acceleration on one body caused by one other body\n",
    "def accel(a,b):\n",
    "    rel_pos = b.pos - a.pos\n",
    "    return G*b.mass*norm(rel_pos)/rel_pos.mag2 \n",
    "\n",
    "#Summing the accelerations caused by other bodies on any one body\n",
    "def totalaccel(a, planets):\n",
    "    sum_accel = vec(0,0,0)\n",
    "    for b in planets:\n",
    "        if (a!=b):\n",
    "            sum_accel = sum_accel + accel(a,b)\n",
    "    return sum_accel\n",
    "\n",
    "#Define constants, position, velocity of each planet and sun \n",
    "AU = 149.6e9       \n",
    "G=6.673e-11\n",
    "\n",
    "#Mass\n",
    "sun_mass = 2e30\n",
    "earth_mass = 6e24\n",
    "moon_mass = 7.35e22\n",
    "mercury_mass = 3.28e23\n",
    "venus_mass = 4.87e24\n",
    "mars_mass = 6.39e23\n",
    "saturn_mass = 5.7e26\n",
    "uranus_mass = 8.7e25\n",
    "neptune_mass = 1e26\n",
    "pluto_mass = 1.3e22\n",
    "\n",
    "#Raduis of orbit\n",
    "mercury_dist = 0.397*AU\n",
    "venus_dist = 0.7*AU\n",
    "mars_dist = 1.5*AU\n",
    "saturn_dist = 9.5*AU\n",
    "jupiter_dist = 5.2*AU\n",
    "uranus_dist = 19.8*AU\n",
    "neptune_dist = 30*AU\n",
    "pluto_dist = 39.5*AU\n",
    "jupiter_mass=1.9e27\n",
    "\n",
    "\n",
    "#Velocity of planets\n",
    "earth_vel = 2* np.pi * AU/(365.25 *24. *60.*60.) \n",
    "jupiter_vel=2* np.pi *AU*5.2/(11.86*365.25*24.*60.*60)\n",
    "moon_velx = (2* np.pi *3.84e8/(29.5*24.*60.*60)) + (2* np.pi * AU/(365.25 *24. *60.*60.))\n",
    "mercury_vel = 2* np.pi * 0.397*AU/(88 *24. *60.*60.) \n",
    "venus_vel = 2* np.pi * 0.7*AU/(225 *24. *60.*60.) \n",
    "mars_vel = 2* np.pi * 1.5*AU/(687 *24. *60.*60.) \n",
    "saturn_vel = 2* np.pi * 9.5*AU/(29*365.25 *24. *60.*60.) \n",
    "uranus_vel = 2* np.pi * 19.8*AU/(84*365.25 *24. *60.*60.) \n",
    "neptune_vel = 2* np.pi * 30*AU/(165*365.25 *24. *60.*60.) \n",
    "pluto_vel = 2* np.pi * 39.5*AU/(248*365.25 *24. *60.*60.) \n"
   ]
  },
  {
   "cell_type": "code",
   "execution_count": 4,
   "id": "305cc850",
   "metadata": {},
   "outputs": [],
   "source": [
    "scene.background = color.black\n",
    "scene.autoscale = 0\n",
    "scene.range = 10*AU"
   ]
  },
  {
   "cell_type": "code",
   "execution_count": 5,
   "id": "e8ef8b87",
   "metadata": {},
   "outputs": [
    {
     "data": {
      "application/javascript": [
       "if (typeof Jupyter !== \"undefined\") {require.undef(\"nbextensions/vpython_libraries/glow.min\");}else{element.textContent = ' ';}"
      ],
      "text/plain": [
       "<IPython.core.display.Javascript object>"
      ]
     },
     "metadata": {},
     "output_type": "display_data"
    },
    {
     "data": {
      "application/javascript": [
       "if (typeof Jupyter !== \"undefined\") {require.undef(\"nbextensions/vpython_libraries/glowcomm\");}else{element.textContent = ' ';}"
      ],
      "text/plain": [
       "<IPython.core.display.Javascript object>"
      ]
     },
     "metadata": {},
     "output_type": "display_data"
    },
    {
     "data": {
      "application/javascript": [
       "if (typeof Jupyter !== \"undefined\") {require.undef(\"nbextensions/vpython_libraries/jquery-ui.custom.min\");}else{element.textContent = ' ';}"
      ],
      "text/plain": [
       "<IPython.core.display.Javascript object>"
      ]
     },
     "metadata": {},
     "output_type": "display_data"
    },
    {
     "data": {
      "application/javascript": [
       "if (typeof Jupyter !== \"undefined\") {require([\"nbextensions/vpython_libraries/glow.min\"], function(){console.log(\"GLOW LOADED\");});}else{element.textContent = ' ';}"
      ],
      "text/plain": [
       "<IPython.core.display.Javascript object>"
      ]
     },
     "metadata": {},
     "output_type": "display_data"
    },
    {
     "data": {
      "application/javascript": [
       "if (typeof Jupyter !== \"undefined\") {require([\"nbextensions/vpython_libraries/glowcomm\"], function(){console.log(\"GLOWCOMM LOADED\");});}else{element.textContent = ' ';}"
      ],
      "text/plain": [
       "<IPython.core.display.Javascript object>"
      ]
     },
     "metadata": {},
     "output_type": "display_data"
    },
    {
     "data": {
      "application/javascript": [
       "if (typeof Jupyter !== \"undefined\") {require([\"nbextensions/vpython_libraries/jquery-ui.custom.min\"], function(){console.log(\"JQUERY LOADED\");});}else{element.textContent = ' ';}"
      ],
      "text/plain": [
       "<IPython.core.display.Javascript object>"
      ]
     },
     "metadata": {},
     "output_type": "display_data"
    }
   ],
   "source": [
    "#Define the planets\n",
    "sun = sphere(pos= vector(0,0,0), velocity = vector(0,0,0),\n",
    "             mass=sun_mass, radius = 0.05*AU, color =color.yellow)\n",
    "earth = sphere(pos= vector(AU, 0, 0), velocity = vector(0,earth_vel,0),\n",
    "               mass=earth_mass, radius=0.05*AU, color =color.cyan)\n",
    "jupiter = sphere(pos=vector(5.2*AU,0,0),velocity=vector(0,jupiter_vel,0),\n",
    "                 mass=jupiter_mass, radius=0.05*AU, color=color.red)\n",
    "mercury = sphere(pos=vector(0.397*AU,0,0),velocity=vector(0,mercury_vel,0),\n",
    "                 mass=mercury_mass, radius=0.05*AU, color=color.red)\n",
    "venus = sphere(pos=vector(0.7*AU,0,0),velocity=vector(0,venus_vel,0),\n",
    "                 mass=venus_mass, radius=0.05*AU, color=color.yellow)\n",
    "mars = sphere(pos=vector(1.5*AU,0,0),velocity=vector(0,mars_vel,0),\n",
    "                 mass=mars_mass, radius=0.05*AU, color=color.red)\n",
    "saturn = sphere(pos=vector(9.5*AU,0,0),velocity=vector(0,saturn_vel,0),\n",
    "                 mass=saturn_mass, radius=0.05*AU, color=color.orange)\n",
    "uranus = sphere(pos=vector(19.8*AU,0,0),velocity=vector(0,uranus_vel,0),\n",
    "                 mass=uranus_mass, radius=0.05*AU, color=color.magenta)\n",
    "neptune = sphere(pos=vector(30*AU,0,0),velocity=vector(0,neptune_vel,0),\n",
    "                 mass=neptune_mass, radius=0.05*AU, color=color.blue)\n",
    "pluto = sphere(pos=vector(39.5*AU,0,0),velocity=vector(0,pluto_vel,0),\n",
    "                 mass=pluto_mass, radius=0.05*AU, color=color.cyan)\n"
   ]
  },
  {
   "cell_type": "code",
   "execution_count": 6,
   "id": "cad8c70c",
   "metadata": {},
   "outputs": [],
   "source": [
    "#Put planets in the planet list\n",
    "planets = [sun, earth, jupiter, mercury, venus, mars, saturn, uranus, neptune, pluto]\n",
    "\n",
    "for b in planets:\n",
    "    b.accel = vector(0,0,0)\n",
    "    b.track=curve (color = b.color)"
   ]
  },
  {
   "cell_type": "code",
   "execution_count": 7,
   "id": "5935ebca",
   "metadata": {},
   "outputs": [],
   "source": [
    "#Set momentum in the centre of mass to zero, by summing the momenta of all other bodies and calculating velocity of \n",
    "#the sun accordingly.\n",
    "\n",
    "sum=vector(0,0,0)\n",
    "for b in planets:\n",
    "    if (b!=sun):\n",
    "        sum=sum+b.mass*b.velocity\n",
    "\n",
    "sun.velocity=-sum/sun.mass\n",
    "\n",
    "#Define the time step dt\n",
    "dt=60.*60.*20"
   ]
  },
  {
   "cell_type": "code",
   "execution_count": 8,
   "id": "85a7a6d4",
   "metadata": {},
   "outputs": [
    {
     "name": "stdout",
     "output_type": "stream",
     "text": [
      "Initial Kinetic energy= 1.990481818287155e+35\n",
      "Initial Potential energy= 7.980179102667262e+35\n",
      "Total initial energy= 8.381986451520447e+36\n"
     ]
    }
   ],
   "source": [
    "#First we calculate the total initial energy in the system by adding kinetic and potential energy\n",
    "KE_i = 0\n",
    "PE_i = 0\n",
    "E_i = 0\n",
    "for i in planets:\n",
    "    KE_i = KE_i + (0.5*i.mass*i.velocity.mag2)      #Adding the kinetic energy of each body\n",
    "    for j in planets:\n",
    "        if (j != i):\n",
    "            distance = j.pos - i.pos\n",
    "            PE_i = PE_i + (6.67e-11*i.mass*j.mass)/(distance).mag  #Adding the gravitational potential energy of each\n",
    "    E_i = E_i + KE_i + PE_i       #Adding kinetic and potential to get the total initial energy\n",
    "    \n",
    "print(\"Initial Kinetic energy=\", KE_i)\n",
    "print(\"Initial Potential energy=\", PE_i)\n",
    "print(\"Total initial energy=\", E_i)"
   ]
  },
  {
   "cell_type": "markdown",
   "id": "9e90c1e5",
   "metadata": {},
   "source": [
    "### Leapfrog Calculations"
   ]
  },
  {
   "cell_type": "code",
   "execution_count": 9,
   "id": "60116b5c",
   "metadata": {},
   "outputs": [
    {
     "ename": "KeyboardInterrupt",
     "evalue": "",
     "output_type": "error",
     "traceback": [
      "\u001b[0;31m---------------------------------------------------------------------------\u001b[0m",
      "\u001b[0;31mKeyboardInterrupt\u001b[0m                         Traceback (most recent call last)",
      "\u001b[0;32m/var/folders/bm/r_gc48bx4xz4t33vx7tjyhqw0000gq/T/ipykernel_57647/3274669727.py\u001b[0m in \u001b[0;36m<module>\u001b[0;34m\u001b[0m\n\u001b[1;32m      7\u001b[0m \u001b[0;31m#start leap-frog\u001b[0m\u001b[0;34m\u001b[0m\u001b[0;34m\u001b[0m\u001b[0m\n\u001b[1;32m      8\u001b[0m \u001b[0;32mwhile\u001b[0m \u001b[0;32mTrue\u001b[0m\u001b[0;34m:\u001b[0m\u001b[0;34m\u001b[0m\u001b[0;34m\u001b[0m\u001b[0m\n\u001b[0;32m----> 9\u001b[0;31m     \u001b[0mrate\u001b[0m\u001b[0;34m(\u001b[0m\u001b[0;36m50\u001b[0m\u001b[0;34m)\u001b[0m\u001b[0;34m\u001b[0m\u001b[0;34m\u001b[0m\u001b[0m\n\u001b[0m\u001b[1;32m     10\u001b[0m     \u001b[0;32mfor\u001b[0m \u001b[0mb\u001b[0m \u001b[0;32min\u001b[0m \u001b[0mplanets\u001b[0m\u001b[0;34m:\u001b[0m\u001b[0;34m\u001b[0m\u001b[0;34m\u001b[0m\u001b[0m\n\u001b[1;32m     11\u001b[0m         \u001b[0mb\u001b[0m\u001b[0;34m.\u001b[0m\u001b[0mpos\u001b[0m \u001b[0;34m=\u001b[0m \u001b[0mb\u001b[0m\u001b[0;34m.\u001b[0m\u001b[0mpos\u001b[0m \u001b[0;34m+\u001b[0m \u001b[0mb\u001b[0m\u001b[0;34m.\u001b[0m\u001b[0mvelocity\u001b[0m\u001b[0;34m*\u001b[0m\u001b[0mdt\u001b[0m\u001b[0;34m\u001b[0m\u001b[0;34m\u001b[0m\u001b[0m\n",
      "\u001b[0;32m~/opt/anaconda3/lib/python3.9/site-packages/vpython/rate_control.py\u001b[0m in \u001b[0;36m__call__\u001b[0;34m(self, N)\u001b[0m\n\u001b[1;32m    264\u001b[0m         \u001b[0mself\u001b[0m\u001b[0;34m.\u001b[0m\u001b[0mrval\u001b[0m \u001b[0;34m=\u001b[0m \u001b[0mN\u001b[0m\u001b[0;34m\u001b[0m\u001b[0;34m\u001b[0m\u001b[0m\n\u001b[1;32m    265\u001b[0m         \u001b[0;32mif\u001b[0m \u001b[0mself\u001b[0m\u001b[0;34m.\u001b[0m\u001b[0mrval\u001b[0m \u001b[0;34m<\u001b[0m \u001b[0;36m1\u001b[0m\u001b[0;34m:\u001b[0m \u001b[0;32mraise\u001b[0m \u001b[0mValueError\u001b[0m\u001b[0;34m(\u001b[0m\u001b[0;34m\"rate value must be greater than or equal to 1\"\u001b[0m\u001b[0;34m)\u001b[0m\u001b[0;34m\u001b[0m\u001b[0;34m\u001b[0m\u001b[0m\n\u001b[0;32m--> 266\u001b[0;31m         \u001b[0msuper\u001b[0m\u001b[0;34m(\u001b[0m\u001b[0m_RateKeeper2\u001b[0m\u001b[0;34m,\u001b[0m \u001b[0mself\u001b[0m\u001b[0;34m)\u001b[0m\u001b[0;34m.\u001b[0m\u001b[0m__call__\u001b[0m\u001b[0;34m(\u001b[0m\u001b[0mself\u001b[0m\u001b[0;34m.\u001b[0m\u001b[0mrval\u001b[0m\u001b[0;34m)\u001b[0m \u001b[0;31m## calls __call__ in rate_control.py\u001b[0m\u001b[0;34m\u001b[0m\u001b[0;34m\u001b[0m\u001b[0m\n\u001b[0m\u001b[1;32m    267\u001b[0m \u001b[0;34m\u001b[0m\u001b[0m\n\u001b[1;32m    268\u001b[0m \u001b[0;34m\u001b[0m\u001b[0m\n",
      "\u001b[0;32m~/opt/anaconda3/lib/python3.9/site-packages/vpython/rate_control.py\u001b[0m in \u001b[0;36m__call__\u001b[0;34m(self, maxRate)\u001b[0m\n\u001b[1;32m    218\u001b[0m             \u001b[0mdt\u001b[0m \u001b[0;34m=\u001b[0m \u001b[0mself\u001b[0m\u001b[0;34m.\u001b[0m\u001b[0mlastSleep\u001b[0m \u001b[0;34m+\u001b[0m \u001b[0mself\u001b[0m\u001b[0;34m.\u001b[0m\u001b[0mcalls\u001b[0m\u001b[0;34m*\u001b[0m\u001b[0;34m(\u001b[0m\u001b[0mself\u001b[0m\u001b[0;34m.\u001b[0m\u001b[0muserTime\u001b[0m \u001b[0;34m+\u001b[0m \u001b[0mself\u001b[0m\u001b[0;34m.\u001b[0m\u001b[0mcallTime\u001b[0m \u001b[0;34m+\u001b[0m \u001b[0mself\u001b[0m\u001b[0;34m.\u001b[0m\u001b[0mdelay\u001b[0m\u001b[0;34m)\u001b[0m \u001b[0;34m+\u001b[0m\u001b[0;31m \u001b[0m\u001b[0;31m\\\u001b[0m\u001b[0;34m\u001b[0m\u001b[0;34m\u001b[0m\u001b[0m\n\u001b[1;32m    219\u001b[0m                  \u001b[0mrenders\u001b[0m\u001b[0;34m*\u001b[0m\u001b[0mself\u001b[0m\u001b[0;34m.\u001b[0m\u001b[0mrenderTime\u001b[0m \u001b[0;34m+\u001b[0m \u001b[0msleeps\u001b[0m\u001b[0;34m*\u001b[0m\u001b[0mself\u001b[0m\u001b[0;34m.\u001b[0m\u001b[0minteractionPeriod\u001b[0m \u001b[0;34m-\u001b[0m \u001b[0m_clock\u001b[0m\u001b[0;34m(\u001b[0m\u001b[0;34m)\u001b[0m\u001b[0;34m\u001b[0m\u001b[0;34m\u001b[0m\u001b[0m\n\u001b[0;32m--> 220\u001b[0;31m             \u001b[0m_sleep\u001b[0m\u001b[0;34m(\u001b[0m\u001b[0mdt\u001b[0m\u001b[0;34m)\u001b[0m\u001b[0;34m\u001b[0m\u001b[0;34m\u001b[0m\u001b[0m\n\u001b[0m\u001b[1;32m    221\u001b[0m             \u001b[0mself\u001b[0m\u001b[0;34m.\u001b[0m\u001b[0mlastSleep\u001b[0m \u001b[0;34m=\u001b[0m \u001b[0m_clock\u001b[0m\u001b[0;34m(\u001b[0m\u001b[0;34m)\u001b[0m\u001b[0;34m\u001b[0m\u001b[0;34m\u001b[0m\u001b[0m\n\u001b[1;32m    222\u001b[0m             \u001b[0mself\u001b[0m\u001b[0;34m.\u001b[0m\u001b[0mcalls\u001b[0m \u001b[0;34m=\u001b[0m \u001b[0;36m0\u001b[0m\u001b[0;34m\u001b[0m\u001b[0;34m\u001b[0m\u001b[0m\n",
      "\u001b[0;32m~/opt/anaconda3/lib/python3.9/site-packages/vpython/rate_control.py\u001b[0m in \u001b[0;36m_sleep\u001b[0;34m(dt)\u001b[0m\n\u001b[1;32m     66\u001b[0m         \u001b[0;32mreturn\u001b[0m\u001b[0;34m\u001b[0m\u001b[0;34m\u001b[0m\u001b[0m\n\u001b[1;32m     67\u001b[0m     \u001b[0mtend\u001b[0m \u001b[0;34m=\u001b[0m \u001b[0m_clock\u001b[0m\u001b[0;34m(\u001b[0m\u001b[0;34m)\u001b[0m\u001b[0;34m+\u001b[0m\u001b[0mdt\u001b[0m\u001b[0;34m\u001b[0m\u001b[0;34m\u001b[0m\u001b[0m\n\u001b[0;32m---> 68\u001b[0;31m     \u001b[0;32mwhile\u001b[0m \u001b[0m_clock\u001b[0m\u001b[0;34m(\u001b[0m\u001b[0;34m)\u001b[0m \u001b[0;34m<\u001b[0m \u001b[0mtend\u001b[0m\u001b[0;34m:\u001b[0m\u001b[0;34m\u001b[0m\u001b[0;34m\u001b[0m\u001b[0m\n\u001b[0m\u001b[1;32m     69\u001b[0m         \u001b[0;32mpass\u001b[0m\u001b[0;34m\u001b[0m\u001b[0;34m\u001b[0m\u001b[0m\n\u001b[1;32m     70\u001b[0m \u001b[0;34m\u001b[0m\u001b[0m\n",
      "\u001b[0;31mKeyboardInterrupt\u001b[0m: "
     ]
    }
   ],
   "source": [
    "#Initializing Leapfrog\n",
    "for b in planets:\n",
    "    b.velocity = b.velocity + totalaccel(b, planets)*dt/2.0\n",
    "\n",
    "counter = 0\n",
    "\n",
    "#start leap-frog\n",
    "while True:\n",
    "    rate(50)  \n",
    "    for b in planets:\n",
    "        b.pos = b.pos + b.velocity*dt\n",
    "        b.track.append(pos=b.pos)\n",
    "\n",
    "        b.velocity = b.velocity + totalaccel(b, planets)*dt\n",
    "    \n",
    "    counter = counter + 1\n",
    "\n",
    "    scene.center = vector(0,0,0) #view centered on the origin \n"
   ]
  },
  {
   "cell_type": "markdown",
   "id": "3bd33797",
   "metadata": {},
   "source": [
    "### Checking conservation of energy to estimate error"
   ]
  },
  {
   "cell_type": "code",
   "execution_count": null,
   "id": "deee312b",
   "metadata": {},
   "outputs": [],
   "source": [
    "#Calculate the total final energy in the system\n",
    "KE_f = 0\n",
    "PE_f= 0\n",
    "E_f = KE_f + PE_f\n",
    "for i in planets:\n",
    "    KE_f = KE_f + (0.5*i.mass*i.velocity.mag2)      #Adding the kinetic energy of each\n",
    "    for j in planets:\n",
    "        if (j != i):\n",
    "            distance = j.pos - i.pos\n",
    "            PE_f = PE_f + (6.67e-11*i.mass*j.mass)/(distance).mag #Adding gravitational potential energy of each body\n",
    "    E_f = E_f + KE_f + PE_f           #Calculating total final energy as the sum of final kinetic and potential energy\n",
    "    \n",
    "print(\"Final Kinetic energy=\", KE_f)\n",
    "print(\"Final Potential energy=\", PE_f)\n",
    "print(\"Total Final energy=\", E_f)\n",
    "print(\"Difference in total energy is \", ((E_f - E_i)*100)/E_i, \"%\")"
   ]
  },
  {
   "cell_type": "code",
   "execution_count": null,
   "id": "016c6d4c",
   "metadata": {},
   "outputs": [],
   "source": []
  }
 ],
 "metadata": {
  "kernelspec": {
   "display_name": "Python 3 (ipykernel)",
   "language": "python",
   "name": "python3"
  },
  "language_info": {
   "codemirror_mode": {
    "name": "ipython",
    "version": 3
   },
   "file_extension": ".py",
   "mimetype": "text/x-python",
   "name": "python",
   "nbconvert_exporter": "python",
   "pygments_lexer": "ipython3",
   "version": "3.9.7"
  }
 },
 "nbformat": 4,
 "nbformat_minor": 5
}
