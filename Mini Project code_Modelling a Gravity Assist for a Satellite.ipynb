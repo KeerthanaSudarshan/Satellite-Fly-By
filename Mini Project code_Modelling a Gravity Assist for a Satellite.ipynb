{
 "cells": [
  {
   "cell_type": "markdown",
   "id": "50497a23",
   "metadata": {},
   "source": [
    "# Modelling a Gravity Assist for a Satellite"
   ]
  },
  {
   "cell_type": "code",
   "execution_count": 1,
   "id": "024754dc",
   "metadata": {},
   "outputs": [
    {
     "data": {
      "text/html": [
       "<div id=\"glowscript\" class=\"glowscript\"></div>"
      ],
      "text/plain": [
       "<IPython.core.display.HTML object>"
      ]
     },
     "metadata": {},
     "output_type": "display_data"
    },
    {
     "data": {
      "application/javascript": [
       "if (typeof Jupyter !== \"undefined\") { window.__context = { glowscript_container: $(\"#glowscript\").removeAttr(\"id\")};}else{ element.textContent = ' ';}"
      ],
      "text/plain": [
       "<IPython.core.display.Javascript object>"
      ]
     },
     "metadata": {},
     "output_type": "display_data"
    }
   ],
   "source": [
    "from vpython import *\n",
    "import numpy as np\n",
    "import matplotlib. pyplot as plt"
   ]
  },
  {
   "cell_type": "markdown",
   "id": "423310a2",
   "metadata": {},
   "source": [
    "### Scene set-up for modelling"
   ]
  },
  {
   "cell_type": "code",
   "execution_count": 2,
   "id": "35a2c26b",
   "metadata": {},
   "outputs": [
    {
     "data": {
      "text/html": [
       "<div id=\"glowscript\" class=\"glowscript\"></div>"
      ],
      "text/plain": [
       "<IPython.core.display.HTML object>"
      ]
     },
     "metadata": {},
     "output_type": "display_data"
    },
    {
     "data": {
      "application/javascript": [
       "if (typeof Jupyter !== \"undefined\") { window.__context = { glowscript_container: $(\"#glowscript\").removeAttr(\"id\")};}else{ element.textContent = ' ';}"
      ],
      "text/plain": [
       "<IPython.core.display.Javascript object>"
      ]
     },
     "metadata": {},
     "output_type": "display_data"
    }
   ],
   "source": [
    "scene = canvas()"
   ]
  },
  {
   "cell_type": "markdown",
   "id": "b79594b1",
   "metadata": {},
   "source": [
    "### Defining constants and calculating initial conditions"
   ]
  },
  {
   "cell_type": "code",
   "execution_count": 3,
   "id": "e49a67af",
   "metadata": {},
   "outputs": [],
   "source": [
    "G = 6.6704e-11\n",
    "\n",
    "#Defining the acceleration on one body caused by one other body\n",
    "def accel(a,b):\n",
    "    rel_pos = b.pos - a.pos\n",
    "    return G*b.mass*norm(rel_pos)/rel_pos.mag2 \n",
    "\n",
    "#Summing the accelerations caused by other bodies on any one body\n",
    "def totalaccel(a, planets):\n",
    "    sum_accel = vec(0,0,0)\n",
    "    for b in planets:\n",
    "        if (a!=b):\n",
    "            sum_accel = sum_accel + accel(a,b)\n",
    "    return sum_accel\n",
    "\n",
    "#Define constants, position, velocity of each planet, sun and Satellite\n",
    "AU = 149.6e9       \n",
    "G=6.673e-11\n",
    "\n",
    "#Mass\n",
    "sun_mass = 2e30\n",
    "earth_mass = 6e24\n",
    "moon_mass = 7.35e22\n",
    "mercury_mass = 3.28e23\n",
    "venus_mass = 4.87e24\n",
    "mars_mass = 6.39e23\n",
    "saturn_mass = 5.7e26\n",
    "uranus_mass = 8.7e25\n",
    "neptune_mass = 1e26\n",
    "pluto_mass = 1.3e22\n",
    "sat_mass = 722\n",
    "\n",
    "#Radius of orbit\n",
    "mercury_dist = 0.397*AU\n",
    "venus_dist = 0.7*AU\n",
    "mars_dist = 1.5*AU\n",
    "saturn_dist = 9.5*AU\n",
    "jupiter_dist = 5.2*AU\n",
    "uranus_dist = 19.8*AU\n",
    "neptune_dist = 30*AU\n",
    "pluto_dist = 39.5*AU\n",
    "jupiter_mass=1.9e27\n",
    "\n",
    "\n",
    "#Velocity of planets\n",
    "earth_vel = 2* np.pi * AU/(365.25 *24. *60.*60.) \n",
    "jupiter_vel=2* np.pi *AU*5.2/(11.86*365.25*24.*60.*60)\n",
    "moon_velx = (2* np.pi *3.84e8/(29.5*24.*60.*60)) + (2* np.pi * AU/(365.25 *24. *60.*60.))\n",
    "mercury_vel = 2* np.pi * 0.397*AU/(88 *24. *60.*60.) \n",
    "venus_vel = 2* np.pi * 0.7*AU/(225 *24. *60.*60.) \n",
    "mars_vel = 2* np.pi * 1.5*AU/(687 *24. *60.*60.) \n",
    "saturn_vel = 2* np.pi * 9.5*AU/(29*365.25 *24. *60.*60.) \n",
    "uranus_vel = 2* np.pi * 19.8*AU/(84*365.25 *24. *60.*60.) \n",
    "neptune_vel = 2* np.pi * 30*AU/(165*365.25 *24. *60.*60.) \n",
    "pluto_vel = 2* np.pi * 39.5*AU/(248*365.25 *24. *60.*60.) \n",
    "\n",
    "\n",
    "\n",
    "#Here, we define the velocity and position of the planet in terms of the angle from the vertical. These equations\n",
    "#ensure that the magnitude of velocity and distance from the sun remain the same as in the solar system.\n",
    "\n",
    "#Jupiter's calculation\n",
    "j_ang = -0.138\n",
    "jpos_x = -np.sin(j_ang)*AU*5.2\n",
    "jpos_y = np.cos(j_ang)*AU*5.2\n",
    "jvel_x = np.cos(j_ang)*jupiter_vel\n",
    "jvel_y = np.sin(j_ang)*jupiter_vel\n",
    "\n",
    "#Saturn's calculations\n",
    "s_ang = -0.689\n",
    "spos_x = -np.sin(s_ang)*AU*9.5\n",
    "spos_y = np.cos(s_ang)*AU*9.5\n",
    "svel_x = np.cos(s_ang)*saturn_vel\n",
    "svel_y = np.sin(s_ang)*saturn_vel\n",
    "\n",
    "#Uranus's calculations\n",
    "u_ang = -1.333\n",
    "upos_x = -np.sin(u_ang)*AU*19.8\n",
    "upos_y = np.cos(u_ang)*AU*19.8\n",
    "uvel_x = np.cos(u_ang)*uranus_vel\n",
    "uvel_y = np.sin(u_ang)*uranus_vel\n",
    "\n",
    "#Neptune's calculations\n",
    "n_ang = -1.595\n",
    "npos_x = -np.sin(n_ang)*AU*30\n",
    "npos_y = np.cos(n_ang)*AU*30\n",
    "nvel_x = np.cos(n_ang)*neptune_vel\n",
    "nvel_y = np.sin(n_ang)*neptune_vel"
   ]
  },
  {
   "cell_type": "code",
   "execution_count": 4,
   "id": "305cc850",
   "metadata": {},
   "outputs": [],
   "source": [
    "scene.background = color.black\n",
    "scene.autoscale = 0\n",
    "scene.range = 10*AU"
   ]
  },
  {
   "cell_type": "code",
   "execution_count": 5,
   "id": "e8ef8b87",
   "metadata": {},
   "outputs": [
    {
     "data": {
      "application/javascript": [
       "if (typeof Jupyter !== \"undefined\") {require.undef(\"nbextensions/vpython_libraries/glow.min\");}else{element.textContent = ' ';}"
      ],
      "text/plain": [
       "<IPython.core.display.Javascript object>"
      ]
     },
     "metadata": {},
     "output_type": "display_data"
    },
    {
     "data": {
      "application/javascript": [
       "if (typeof Jupyter !== \"undefined\") {require.undef(\"nbextensions/vpython_libraries/glowcomm\");}else{element.textContent = ' ';}"
      ],
      "text/plain": [
       "<IPython.core.display.Javascript object>"
      ]
     },
     "metadata": {},
     "output_type": "display_data"
    },
    {
     "data": {
      "application/javascript": [
       "if (typeof Jupyter !== \"undefined\") {require.undef(\"nbextensions/vpython_libraries/jquery-ui.custom.min\");}else{element.textContent = ' ';}"
      ],
      "text/plain": [
       "<IPython.core.display.Javascript object>"
      ]
     },
     "metadata": {},
     "output_type": "display_data"
    },
    {
     "data": {
      "application/javascript": [
       "if (typeof Jupyter !== \"undefined\") {require([\"nbextensions/vpython_libraries/glow.min\"], function(){console.log(\"GLOW LOADED\");});}else{element.textContent = ' ';}"
      ],
      "text/plain": [
       "<IPython.core.display.Javascript object>"
      ]
     },
     "metadata": {},
     "output_type": "display_data"
    },
    {
     "data": {
      "application/javascript": [
       "if (typeof Jupyter !== \"undefined\") {require([\"nbextensions/vpython_libraries/glowcomm\"], function(){console.log(\"GLOWCOMM LOADED\");});}else{element.textContent = ' ';}"
      ],
      "text/plain": [
       "<IPython.core.display.Javascript object>"
      ]
     },
     "metadata": {},
     "output_type": "display_data"
    },
    {
     "data": {
      "application/javascript": [
       "if (typeof Jupyter !== \"undefined\") {require([\"nbextensions/vpython_libraries/jquery-ui.custom.min\"], function(){console.log(\"JQUERY LOADED\");});}else{element.textContent = ' ';}"
      ],
      "text/plain": [
       "<IPython.core.display.Javascript object>"
      ]
     },
     "metadata": {},
     "output_type": "display_data"
    }
   ],
   "source": [
    "#Define the planets\n",
    "sun = sphere(pos= vector(0,0,0), velocity = vector(0,0,0),\n",
    "             mass=sun_mass, radius = 0.05*AU, color =color.yellow)\n",
    "earth = sphere(pos= vector(-AU, 0, 0), velocity = vector(0,earth_vel,0),\n",
    "               mass=earth_mass, radius=0.01*AU, color =color.green)\n",
    "\n",
    "uranus = sphere(pos=vector(upos_x,upos_y,0),velocity=vector(uvel_x,uvel_y,0),\n",
    "                 mass=uranus_mass, radius=0.05*AU, color=color.magenta)\n",
    "\n",
    "neptune = sphere(pos=vector(npos_x,npos_y,0),velocity=vector(nvel_x,nvel_y,0),\n",
    "                 mass=neptune_mass, radius=0.01*AU, color=color.blue)\n",
    "\n",
    "pluto = sphere(pos=vector(39.5*AU,0,0),velocity=vector(0,pluto_vel,0),\n",
    "                 mass=pluto_mass, radius=0.01*AU, color=color.cyan)\n",
    "\n",
    "jupiter = sphere(pos=vector(jpos_x, jpos_y, 0),velocity=vector(jvel_x,jvel_y,0),\n",
    "                 mass=jupiter_mass, radius=0.05*AU, color=color.red)\n",
    "    \n",
    "sat = sphere(pos=vector(-0.999*AU,0,0), velocity=vector(0,40500,0),\n",
    "            mass=sat_mass, radius=0.05*AU, color=(color.cyan))\n",
    "\n",
    "saturn = sphere(pos=vector(spos_x, spos_y, 0), velocity=vector(svel_x,svel_y,0),\n",
    "               mass=saturn_mass, radius=0.05*AU, color=(color.blue))\n",
    "    "
   ]
  },
  {
   "cell_type": "code",
   "execution_count": 6,
   "id": "cad8c70c",
   "metadata": {},
   "outputs": [],
   "source": [
    "#Put planets in the planet list\n",
    "planets = [sun, earth, jupiter, saturn, uranus, neptune, pluto, sat]\n",
    "\n",
    "for b in planets:\n",
    "    b.accel = vector(0,0,0)\n",
    "    b.track=curve (color = b.color)"
   ]
  },
  {
   "cell_type": "code",
   "execution_count": 7,
   "id": "5935ebca",
   "metadata": {},
   "outputs": [],
   "source": [
    "#Set momentum in the centre of mass to zero, by summing the momenta of all other bodies and calculating velocity of \n",
    "#the sun accordingly.\n",
    "\n",
    "sum=vector(0,0,0)\n",
    "for b in planets:\n",
    "    if (b!=sun):\n",
    "        sum=sum+b.mass*b.velocity\n",
    "\n",
    "sun.velocity=-sum/sun.mass\n",
    "\n",
    "#Define the time step dt\n",
    "dt=60.*60.*20"
   ]
  },
  {
   "cell_type": "code",
   "execution_count": 8,
   "id": "5ee3a477",
   "metadata": {},
   "outputs": [
    {
     "name": "stdout",
     "output_type": "stream",
     "text": [
      "Initial Kinetic energy= 1.956548131592266e+35\n",
      "Initial Potential energy= 7.83312195731523e+35\n",
      "Total initial energy= 6.55919881282872e+36\n"
     ]
    }
   ],
   "source": [
    "#First we calculate the total initial energy in the system by adding kinetic and potential energy\n",
    "KE_i = 0\n",
    "PE_i = 0\n",
    "E_i = 0\n",
    "for i in planets:\n",
    "    KE_i = KE_i + (0.5*i.mass*i.velocity.mag2)      #Adding the kinetic energy of each body\n",
    "    for j in planets:\n",
    "        if (j != i):\n",
    "            distance = j.pos - i.pos\n",
    "            PE_i = PE_i + (6.67e-11*i.mass*j.mass)/(distance).mag  #Adding the gravitational potential energy of each\n",
    "    E_i = E_i + KE_i + PE_i       #Adding kinetic and potential to get the total initial energy\n",
    "    \n",
    "print(\"Initial Kinetic energy=\", KE_i)\n",
    "print(\"Initial Potential energy=\", PE_i)\n",
    "print(\"Total initial energy=\", E_i)"
   ]
  },
  {
   "cell_type": "markdown",
   "id": "709ef614",
   "metadata": {},
   "source": [
    "### Leapfrog calculations"
   ]
  },
  {
   "cell_type": "code",
   "execution_count": 9,
   "id": "60116b5c",
   "metadata": {},
   "outputs": [
    {
     "name": "stdout",
     "output_type": "stream",
     "text": [
      "Satellite velocity:  36480.80904612527\n",
      "Jupiter velocity, satellite-Jupiter distance:  13059.770908518642 683510307414.9009\n",
      "Saturn velocity, satellite-Saturn distance:  9757.047578046187 1407441714623.8723\n",
      "  \n",
      "Satellite velocity:  30965.14884426561\n",
      "Jupiter velocity, satellite-Jupiter distance:  13060.274263029565 573842905457.0947\n",
      "Saturn velocity, satellite-Saturn distance:  9756.639905311686 1295399248627.9263\n",
      "  \n",
      "Satellite velocity:  26833.39822365036\n",
      "Jupiter velocity, satellite-Jupiter distance:  13060.998016683174 485316366683.0369\n",
      "Saturn velocity, satellite-Saturn distance:  9756.154845011008 1197453528293.053\n",
      "  \n",
      "Satellite velocity:  23851.46985771628\n",
      "Jupiter velocity, satellite-Jupiter distance:  13061.936714162332 411467138652.8107\n",
      "Saturn velocity, satellite-Saturn distance:  9755.596083538865 1112164412167.8186\n",
      "  \n",
      "Satellite velocity:  21610.868197669548\n",
      "Jupiter velocity, satellite-Jupiter distance:  13063.083421384968 347360283079.9791\n",
      "Saturn velocity, satellite-Saturn distance:  9754.967948579868 1036708215136.3702\n",
      "  \n",
      "Satellite velocity:  19854.6282502763\n",
      "Jupiter velocity, satellite-Jupiter distance:  13064.430301411661 289791224493.1219\n",
      "Saturn velocity, satellite-Saturn distance:  9754.275447021193 968890748434.1805\n",
      "  \n",
      "Satellite velocity:  18429.918502519915\n",
      "Jupiter velocity, satellite-Jupiter distance:  13065.968616703383 236644196016.423\n",
      "Saturn velocity, satellite-Saturn distance:  9753.52428180942 907142191942.0739\n",
      "  \n",
      "Satellite velocity:  17243.111678136225\n",
      "Jupiter velocity, satellite-Jupiter distance:  13067.68857563191 186468000536.63614\n",
      "Saturn velocity, satellite-Saturn distance:  9752.720772271063 850331781100.5392\n",
      "  \n",
      "Satellite velocity:  16235.299711706479\n",
      "Jupiter velocity, satellite-Jupiter distance:  13069.57935753757 138229012895.59113\n",
      "Saturn velocity, satellite-Saturn distance:  9751.871703208999 797623608040.5958\n",
      "  \n",
      "Satellite velocity:  15371.864073221212\n",
      "Jupiter velocity, satellite-Jupiter distance:  13071.629309288212 91157344619.36687\n",
      "Saturn velocity, satellite-Saturn distance:  9750.984122913253 748373123552.7074\n",
      "  \n",
      "Satellite velocity:  14659.251476125497\n",
      "Jupiter velocity, satellite-Jupiter distance:  13073.826317189658 44611489402.57545\n",
      "Saturn velocity, satellite-Saturn distance:  9750.0650915232 702011040528.4801\n",
      "  \n",
      "Satellite velocity:  19176.35122585073\n",
      "Jupiter velocity, satellite-Jupiter distance:  13076.158289854427 4404440106.491161\n",
      "Saturn velocity, satellite-Saturn distance:  9749.121374007174 655424426237.7758\n",
      "  \n",
      "Satellite velocity:  17877.61357114593\n",
      "Jupiter velocity, satellite-Jupiter distance:  13078.613211592587 50794113984.30984\n",
      "Saturn velocity, satellite-Saturn distance:  9748.159058264282 603348488803.622\n",
      "  \n",
      "Satellite velocity:  17339.921918129818\n",
      "Jupiter velocity, satellite-Jupiter distance:  13081.178933368057 97346192735.20909\n",
      "Saturn velocity, satellite-Saturn distance:  9747.183145909748 554128047252.6246\n",
      "  \n",
      "Satellite velocity:  16878.574562642636\n",
      "Jupiter velocity, satellite-Jupiter distance:  13083.843877168016 144322929449.45364\n",
      "Saturn velocity, satellite-Saturn distance:  9746.197246675925 506478956405.99506\n",
      "  \n",
      "Satellite velocity:  16461.431461913602\n",
      "Jupiter velocity, satellite-Jupiter distance:  13086.597481128209 192017669522.63678\n",
      "Saturn velocity, satellite-Saturn distance:  9745.20337252432 460088603404.8535\n",
      "  \n",
      "Satellite velocity:  16078.668990540682\n",
      "Jupiter velocity, satellite-Jupiter distance:  13089.430074286003 240627877050.93497\n",
      "Saturn velocity, satellite-Saturn distance:  9744.201808832102 414741277218.1155\n",
      "  \n",
      "Satellite velocity:  15724.971071322834\n",
      "Jupiter velocity, satellite-Jupiter distance:  13092.332726778544 290299424469.5412\n",
      "Saturn velocity, satellite-Saturn distance:  9743.191119612338 370262163470.6415\n",
      "  \n",
      "Satellite velocity:  15396.64683849905\n",
      "Jupiter velocity, satellite-Jupiter distance:  13095.297147573347 341141330849.0964\n",
      "Saturn velocity, satellite-Saturn distance:  9742.168309860423 326502554776.7257\n",
      "  \n",
      "Satellite velocity:  15090.849305410042\n",
      "Jupiter velocity, satellite-Jupiter distance:  13098.31563138408 393233537240.9732\n",
      "Saturn velocity, satellite-Saturn distance:  9741.12912133772 283333327519.7699\n",
      "  \n",
      "Satellite velocity:  14805.30016894399\n",
      "Jupiter velocity, satellite-Jupiter distance:  13101.381094212227 446632225737.62646\n",
      "Saturn velocity, satellite-Saturn distance:  9740.06840461847 240640997530.29062\n",
      "  \n",
      "Satellite velocity:  14538.202023362472\n",
      "Jupiter velocity, satellite-Jupiter distance:  13104.486936170215 501374064412.2554\n",
      "Saturn velocity, satellite-Saturn distance:  9738.980477911446 198324754429.2174\n",
      "  \n",
      "Satellite velocity:  14288.30245429687\n",
      "Jupiter velocity, satellite-Jupiter distance:  13107.626293559511 557480126708.035\n",
      "Saturn velocity, satellite-Saturn distance:  9737.859445095837 156293697154.61246\n",
      "  \n",
      "Satellite velocity:  14055.312380391946\n",
      "Jupiter velocity, satellite-Jupiter distance:  13110.791894210888 614960580328.4596\n",
      "Saturn velocity, satellite-Saturn distance:  9736.699526488812 114463251701.54468\n",
      "  \n",
      "Satellite velocity:  13841.992794789045\n",
      "Jupiter velocity, satellite-Jupiter distance:  13113.976459730215 673824013803.2627\n",
      "Saturn velocity, satellite-Saturn distance:  9735.495331180944 72747356752.93695\n",
      "  \n",
      "Satellite velocity:  13674.056671406728\n",
      "Jupiter velocity, satellite-Jupiter distance:  13117.172520662994 734119967940.1804\n",
      "Saturn velocity, satellite-Saturn distance:  9734.24201044037 31023296235.619526\n",
      "  \n",
      "Satellite velocity:  16565.14419331679\n",
      "Jupiter velocity, satellite-Jupiter distance:  13120.372145395802 795540604977.2504\n",
      "Saturn velocity, satellite-Saturn distance:  9732.93533620469 11891046868.940437\n",
      "  \n",
      "Satellite velocity:  16247.153710223005\n",
      "Jupiter velocity, satellite-Jupiter distance:  13123.566843574701 852797726889.2314\n",
      "Saturn velocity, satellite-Saturn distance:  9731.571741716827 53761351578.451904\n",
      "  \n",
      "Satellite velocity:  16072.39155621577\n",
      "Jupiter velocity, satellite-Jupiter distance:  13126.747620009795 911631599311.3843\n",
      "Saturn velocity, satellite-Saturn distance:  9730.148339732606 95484698965.77621\n",
      "  \n",
      "Satellite velocity:  15916.236079016104\n",
      "Jupiter velocity, satellite-Jupiter distance:  13129.905188211025 972153547801.0929\n",
      "Saturn velocity, satellite-Saturn distance:  9728.662914735012 137254702413.03877\n",
      "  \n",
      "Satellite velocity:  15769.604241988303\n",
      "Jupiter velocity, satellite-Jupiter distance:  13133.030255231019 1034330062106.4482\n",
      "Saturn velocity, satellite-Saturn distance:  9727.113857236069 179140224300.85886\n",
      "  \n",
      "Satellite velocity:  15630.091062318756\n",
      "Jupiter velocity, satellite-Jupiter distance:  13136.11329623545 1098108985320.9581\n",
      "Saturn velocity, satellite-Saturn distance:  9725.500067340634 221189090167.14203\n",
      "  \n",
      "Satellite velocity:  15496.674847595774\n",
      "Jupiter velocity, satellite-Jupiter distance:  13139.144190240297 1163431263712.3918\n",
      "Saturn velocity, satellite-Saturn distance:  9723.82091740966 263440887341.92844\n",
      "  \n",
      "Satellite velocity:  15368.77136293548\n",
      "Jupiter velocity, satellite-Jupiter distance:  13142.112811183444 1230233633430.5425\n",
      "Saturn velocity, satellite-Saturn distance:  9722.07622140669 305930359662.5006\n",
      "  \n",
      "Satellite velocity:  15245.972815014615\n",
      "Jupiter velocity, satellite-Jupiter distance:  13145.009294821342 1298449484858.1914\n",
      "Saturn velocity, satellite-Saturn distance:  9720.2661620772 348688690301.4258\n",
      "  \n",
      "Satellite velocity:  15127.956262990458\n",
      "Jupiter velocity, satellite-Jupiter distance:  13147.823868694131 1368009227708.6875\n",
      "Saturn velocity, satellite-Saturn distance:  9718.391217224678 391744119616.09326\n",
      "  \n"
     ]
    },
    {
     "ename": "KeyboardInterrupt",
     "evalue": "",
     "output_type": "error",
     "traceback": [
      "\u001b[0;31m---------------------------------------------------------------------------\u001b[0m",
      "\u001b[0;31mKeyboardInterrupt\u001b[0m                         Traceback (most recent call last)",
      "\u001b[0;32m/var/folders/bm/r_gc48bx4xz4t33vx7tjyhqw0000gq/T/ipykernel_57658/896888968.py\u001b[0m in \u001b[0;36m<module>\u001b[0;34m\u001b[0m\n\u001b[1;32m      8\u001b[0m \u001b[0;31m#start leap-frog\u001b[0m\u001b[0;34m\u001b[0m\u001b[0;34m\u001b[0m\u001b[0m\n\u001b[1;32m      9\u001b[0m \u001b[0;32mwhile\u001b[0m \u001b[0;32mTrue\u001b[0m\u001b[0;34m:\u001b[0m\u001b[0;34m\u001b[0m\u001b[0;34m\u001b[0m\u001b[0m\n\u001b[0;32m---> 10\u001b[0;31m     \u001b[0mrate\u001b[0m\u001b[0;34m(\u001b[0m\u001b[0;36m50\u001b[0m\u001b[0;34m)\u001b[0m\u001b[0;34m\u001b[0m\u001b[0;34m\u001b[0m\u001b[0m\n\u001b[0m\u001b[1;32m     11\u001b[0m     \u001b[0;32mfor\u001b[0m \u001b[0mb\u001b[0m \u001b[0;32min\u001b[0m \u001b[0mplanets\u001b[0m\u001b[0;34m:\u001b[0m\u001b[0;34m\u001b[0m\u001b[0;34m\u001b[0m\u001b[0m\n\u001b[1;32m     12\u001b[0m         \u001b[0mb\u001b[0m\u001b[0;34m.\u001b[0m\u001b[0mpos\u001b[0m \u001b[0;34m=\u001b[0m \u001b[0mb\u001b[0m\u001b[0;34m.\u001b[0m\u001b[0mpos\u001b[0m \u001b[0;34m+\u001b[0m \u001b[0mb\u001b[0m\u001b[0;34m.\u001b[0m\u001b[0mvelocity\u001b[0m\u001b[0;34m*\u001b[0m\u001b[0mdt\u001b[0m\u001b[0;34m\u001b[0m\u001b[0;34m\u001b[0m\u001b[0m\n",
      "\u001b[0;32m~/opt/anaconda3/lib/python3.9/site-packages/vpython/rate_control.py\u001b[0m in \u001b[0;36m__call__\u001b[0;34m(self, N)\u001b[0m\n\u001b[1;32m    264\u001b[0m         \u001b[0mself\u001b[0m\u001b[0;34m.\u001b[0m\u001b[0mrval\u001b[0m \u001b[0;34m=\u001b[0m \u001b[0mN\u001b[0m\u001b[0;34m\u001b[0m\u001b[0;34m\u001b[0m\u001b[0m\n\u001b[1;32m    265\u001b[0m         \u001b[0;32mif\u001b[0m \u001b[0mself\u001b[0m\u001b[0;34m.\u001b[0m\u001b[0mrval\u001b[0m \u001b[0;34m<\u001b[0m \u001b[0;36m1\u001b[0m\u001b[0;34m:\u001b[0m \u001b[0;32mraise\u001b[0m \u001b[0mValueError\u001b[0m\u001b[0;34m(\u001b[0m\u001b[0;34m\"rate value must be greater than or equal to 1\"\u001b[0m\u001b[0;34m)\u001b[0m\u001b[0;34m\u001b[0m\u001b[0;34m\u001b[0m\u001b[0m\n\u001b[0;32m--> 266\u001b[0;31m         \u001b[0msuper\u001b[0m\u001b[0;34m(\u001b[0m\u001b[0m_RateKeeper2\u001b[0m\u001b[0;34m,\u001b[0m \u001b[0mself\u001b[0m\u001b[0;34m)\u001b[0m\u001b[0;34m.\u001b[0m\u001b[0m__call__\u001b[0m\u001b[0;34m(\u001b[0m\u001b[0mself\u001b[0m\u001b[0;34m.\u001b[0m\u001b[0mrval\u001b[0m\u001b[0;34m)\u001b[0m \u001b[0;31m## calls __call__ in rate_control.py\u001b[0m\u001b[0;34m\u001b[0m\u001b[0;34m\u001b[0m\u001b[0m\n\u001b[0m\u001b[1;32m    267\u001b[0m \u001b[0;34m\u001b[0m\u001b[0m\n\u001b[1;32m    268\u001b[0m \u001b[0;34m\u001b[0m\u001b[0m\n",
      "\u001b[0;32m~/opt/anaconda3/lib/python3.9/site-packages/vpython/rate_control.py\u001b[0m in \u001b[0;36m__call__\u001b[0;34m(self, maxRate)\u001b[0m\n\u001b[1;32m    218\u001b[0m             \u001b[0mdt\u001b[0m \u001b[0;34m=\u001b[0m \u001b[0mself\u001b[0m\u001b[0;34m.\u001b[0m\u001b[0mlastSleep\u001b[0m \u001b[0;34m+\u001b[0m \u001b[0mself\u001b[0m\u001b[0;34m.\u001b[0m\u001b[0mcalls\u001b[0m\u001b[0;34m*\u001b[0m\u001b[0;34m(\u001b[0m\u001b[0mself\u001b[0m\u001b[0;34m.\u001b[0m\u001b[0muserTime\u001b[0m \u001b[0;34m+\u001b[0m \u001b[0mself\u001b[0m\u001b[0;34m.\u001b[0m\u001b[0mcallTime\u001b[0m \u001b[0;34m+\u001b[0m \u001b[0mself\u001b[0m\u001b[0;34m.\u001b[0m\u001b[0mdelay\u001b[0m\u001b[0;34m)\u001b[0m \u001b[0;34m+\u001b[0m\u001b[0;31m \u001b[0m\u001b[0;31m\\\u001b[0m\u001b[0;34m\u001b[0m\u001b[0;34m\u001b[0m\u001b[0m\n\u001b[1;32m    219\u001b[0m                  \u001b[0mrenders\u001b[0m\u001b[0;34m*\u001b[0m\u001b[0mself\u001b[0m\u001b[0;34m.\u001b[0m\u001b[0mrenderTime\u001b[0m \u001b[0;34m+\u001b[0m \u001b[0msleeps\u001b[0m\u001b[0;34m*\u001b[0m\u001b[0mself\u001b[0m\u001b[0;34m.\u001b[0m\u001b[0minteractionPeriod\u001b[0m \u001b[0;34m-\u001b[0m \u001b[0m_clock\u001b[0m\u001b[0;34m(\u001b[0m\u001b[0;34m)\u001b[0m\u001b[0;34m\u001b[0m\u001b[0;34m\u001b[0m\u001b[0m\n\u001b[0;32m--> 220\u001b[0;31m             \u001b[0m_sleep\u001b[0m\u001b[0;34m(\u001b[0m\u001b[0mdt\u001b[0m\u001b[0;34m)\u001b[0m\u001b[0;34m\u001b[0m\u001b[0;34m\u001b[0m\u001b[0m\n\u001b[0m\u001b[1;32m    221\u001b[0m             \u001b[0mself\u001b[0m\u001b[0;34m.\u001b[0m\u001b[0mlastSleep\u001b[0m \u001b[0;34m=\u001b[0m \u001b[0m_clock\u001b[0m\u001b[0;34m(\u001b[0m\u001b[0;34m)\u001b[0m\u001b[0;34m\u001b[0m\u001b[0;34m\u001b[0m\u001b[0m\n\u001b[1;32m    222\u001b[0m             \u001b[0mself\u001b[0m\u001b[0;34m.\u001b[0m\u001b[0mcalls\u001b[0m \u001b[0;34m=\u001b[0m \u001b[0;36m0\u001b[0m\u001b[0;34m\u001b[0m\u001b[0;34m\u001b[0m\u001b[0m\n",
      "\u001b[0;32m~/opt/anaconda3/lib/python3.9/site-packages/vpython/rate_control.py\u001b[0m in \u001b[0;36m_sleep\u001b[0;34m(dt)\u001b[0m\n\u001b[1;32m     66\u001b[0m         \u001b[0;32mreturn\u001b[0m\u001b[0;34m\u001b[0m\u001b[0;34m\u001b[0m\u001b[0m\n\u001b[1;32m     67\u001b[0m     \u001b[0mtend\u001b[0m \u001b[0;34m=\u001b[0m \u001b[0m_clock\u001b[0m\u001b[0;34m(\u001b[0m\u001b[0;34m)\u001b[0m\u001b[0;34m+\u001b[0m\u001b[0mdt\u001b[0m\u001b[0;34m\u001b[0m\u001b[0;34m\u001b[0m\u001b[0m\n\u001b[0;32m---> 68\u001b[0;31m     \u001b[0;32mwhile\u001b[0m \u001b[0m_clock\u001b[0m\u001b[0;34m(\u001b[0m\u001b[0;34m)\u001b[0m \u001b[0;34m<\u001b[0m \u001b[0mtend\u001b[0m\u001b[0;34m:\u001b[0m\u001b[0;34m\u001b[0m\u001b[0;34m\u001b[0m\u001b[0m\n\u001b[0m\u001b[1;32m     69\u001b[0m         \u001b[0;32mpass\u001b[0m\u001b[0;34m\u001b[0m\u001b[0;34m\u001b[0m\u001b[0m\n\u001b[1;32m     70\u001b[0m \u001b[0;34m\u001b[0m\u001b[0m\n",
      "\u001b[0;31mKeyboardInterrupt\u001b[0m: "
     ]
    }
   ],
   "source": [
    "#Initializing leapfrog\n",
    "for b in planets:\n",
    "    b.velocity = b.velocity + totalaccel(b, planets)*dt/2.0\n",
    "\n",
    "\n",
    "counter = 0\n",
    "\n",
    "#start leap-frog\n",
    "while True:\n",
    "    rate(50)  \n",
    "    for b in planets:\n",
    "        b.pos = b.pos + b.velocity*dt\n",
    "        b.track.append(pos=b.pos)\n",
    "\n",
    "        b.velocity = b.velocity + totalaccel(b, planets)*dt\n",
    "    \n",
    "    counter = counter + 1\n",
    "    if (counter % 50 == 0):\n",
    "        print(\"Satellite velocity: \", sat.velocity.mag)\n",
    "        print(\"Jupiter velocity, satellite-Jupiter distance: \", jupiter.velocity.mag, (sat.pos-jupiter.pos).mag)\n",
    "        print(\"Saturn velocity, satellite-Saturn distance: \", saturn.velocity.mag, (sat.pos-saturn.pos).mag)\n",
    "        print(\"  \")\n",
    "\n",
    "    scene.center = vector(0,0,0) #view centered on the origin.\n"
   ]
  },
  {
   "cell_type": "code",
   "execution_count": null,
   "id": "deee312b",
   "metadata": {},
   "outputs": [],
   "source": [
    "#Print time and current satellite position\n",
    "print(counter*dt)\n",
    "print(sat.pos)"
   ]
  },
  {
   "cell_type": "markdown",
   "id": "02d1f75a",
   "metadata": {},
   "source": [
    "### Checking conservation of energy to estimate error"
   ]
  },
  {
   "cell_type": "code",
   "execution_count": null,
   "id": "9cc43310",
   "metadata": {},
   "outputs": [],
   "source": [
    "#Calculate the total final energy in the system\n",
    "KE_f = 0\n",
    "PE_f= 0\n",
    "E_f = KE_f + PE_f\n",
    "for i in planets:\n",
    "    KE_f = KE_f + (0.5*i.mass*i.velocity.mag2)      #Adding the kinetic energy of each\n",
    "    for j in planets:\n",
    "        if (j != i):\n",
    "            distance = j.pos - i.pos\n",
    "            PE_f = PE_f + (6.67e-11*i.mass*j.mass)/(distance).mag #Adding gravitational potential energy of each body\n",
    "    E_f = E_f + KE_f + PE_f           #Calculating total final energy as the sum of final kinetic and potential energy\n",
    "    \n",
    "print(\"Final Kinetic energy=\", KE_f)\n",
    "print(\"Final Potential energy=\", PE_f)\n",
    "print(\"Total Final energy=\", E_f)\n",
    "print(\"Difference in total energy is \", ((E_f - E_i)*100)/E_i, \"%\")"
   ]
  },
  {
   "cell_type": "code",
   "execution_count": null,
   "id": "4001a84a",
   "metadata": {},
   "outputs": [],
   "source": []
  }
 ],
 "metadata": {
  "kernelspec": {
   "display_name": "Python 3 (ipykernel)",
   "language": "python",
   "name": "python3"
  },
  "language_info": {
   "codemirror_mode": {
    "name": "ipython",
    "version": 3
   },
   "file_extension": ".py",
   "mimetype": "text/x-python",
   "name": "python",
   "nbconvert_exporter": "python",
   "pygments_lexer": "ipython3",
   "version": "3.9.7"
  }
 },
 "nbformat": 4,
 "nbformat_minor": 5
}
