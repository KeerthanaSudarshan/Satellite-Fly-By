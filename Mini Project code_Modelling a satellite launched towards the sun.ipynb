{
 "cells": [
  {
   "cell_type": "markdown",
   "id": "5a99904e",
   "metadata": {},
   "source": [
    "# Modelling a satellite launched towards the sun"
   ]
  },
  {
   "cell_type": "markdown",
   "id": "9db37b26",
   "metadata": {},
   "source": [
    "### To obtain the different plots with only the Earth, Venus and Earth, etc. exclude the unwanted planets by adding \"#\" before the line."
   ]
  },
  {
   "cell_type": "code",
   "execution_count": null,
   "id": "024754dc",
   "metadata": {},
   "outputs": [],
   "source": [
    "from vpython import *\n",
    "import numpy as np\n",
    "import matplotlib. pyplot as plt"
   ]
  },
  {
   "cell_type": "markdown",
   "id": "044ca1d1",
   "metadata": {},
   "source": [
    "### Scene Set-up for modelling"
   ]
  },
  {
   "cell_type": "code",
   "execution_count": null,
   "id": "35a2c26b",
   "metadata": {},
   "outputs": [],
   "source": [
    "scene = canvas()"
   ]
  },
  {
   "cell_type": "markdown",
   "id": "64695623",
   "metadata": {},
   "source": [
    "### Defining constants and calculating initial conditions"
   ]
  },
  {
   "cell_type": "code",
   "execution_count": null,
   "id": "e49a67af",
   "metadata": {},
   "outputs": [],
   "source": [
    "G = 6.6704e-11\n",
    "\n",
    "#Defining the acceleration on one body caused by one other body\n",
    "def accel(a,b):\n",
    "    rel_pos = b.pos - a.pos\n",
    "    return G*b.mass*norm(rel_pos)/rel_pos.mag2 \n",
    "\n",
    "#Summing the accelerations caused by other bodies on any one body\n",
    "def totalaccel(a, planets):\n",
    "    sum_accel = vec(0,0,0)\n",
    "    for b in planets:\n",
    "        if (a!=b):\n",
    "            sum_accel = sum_accel + accel(a,b)\n",
    "    return sum_accel\n",
    "\n",
    "#Define constants, position, velocity of the planets and the sun\n",
    "AU = 149.6e9       \n",
    "G=6.673e-11\n",
    "\n",
    "#Mass\n",
    "sun_mass = 2e30\n",
    "earth_mass = 6e24\n",
    "mercury_mass = 3.28e23\n",
    "venus_mass = 4.87e24\n",
    "sat_mass = 722\n",
    "\n",
    "#Radius of orbits\n",
    "mercury_dist = 0.397*AU\n",
    "venus_dist = 0.7*AU\n",
    "\n",
    "#Velocity of planets\n",
    "earth_vel = 2* np.pi * AU/(365.25 *24. *60.*60.) \n",
    "mercury_vel = 2* np.pi * 0.397*AU/(88 *24. *60.*60.) \n",
    "venus_vel = 2* np.pi * 0.7*AU/(225 *24. *60.*60.) \n",
    "\n",
    "\n",
    "#Mercury's calculation\n",
    "m_ang = 3.1415 \n",
    "mpos_x = -np.sin(m_ang)*AU*0.397\n",
    "mpos_y = np.cos(m_ang)*AU*0.397\n",
    "mvel_x = np.cos(m_ang)*mercury_vel\n",
    "mvel_y = np.sin(m_ang)*mercury_vel\n",
    "\n",
    "#Venus's calculation\n",
    "v_ang = 2.627\n",
    "vpos_x = -np.sin(v_ang)*AU*0.7\n",
    "vpos_y = np.cos(v_ang)*AU*0.7\n",
    "vvel_x = np.cos(v_ang)*venus_vel\n",
    "vvel_y = np.sin(v_ang)*venus_vel"
   ]
  },
  {
   "cell_type": "code",
   "execution_count": null,
   "id": "305cc850",
   "metadata": {},
   "outputs": [],
   "source": [
    "scene.background = color.black\n",
    "scene.autoscale = 0\n",
    "scene.range = 2*AU"
   ]
  },
  {
   "cell_type": "code",
   "execution_count": null,
   "id": "e8ef8b87",
   "metadata": {},
   "outputs": [],
   "source": [
    "#Define the planets and satellite\n",
    "sun = sphere(pos= vector(0,0,0), velocity = vector(0,0,0),\n",
    "             mass=sun_mass, radius = 0.005*AU, color =color.yellow)\n",
    "\n",
    "earth = sphere(pos= vector(-AU, 0, 0), velocity = vector(0,earth_vel,0),\n",
    "               mass=earth_mass, radius=0.01*AU, color =color.green)\n",
    "    \n",
    "sat = sphere(pos=vector(-0.999*AU,0,0), velocity=vector(5000,-5000,0),\n",
    "            mass=sat_mass, radius=0.01*AU, color=(color.cyan))\n",
    "\n",
    "mercury = sphere(pos=vector(mpos_x,mpos_y,0),velocity=vector(mvel_x,mvel_y,0),\n",
    "                 mass=mercury_mass, radius=0.01*AU, color=color.red)\n",
    "\n",
    "venus = sphere(pos=vector(vpos_x,vpos_y,0),velocity=vector(vvel_x,vvel_y,0),\n",
    "                 mass=venus_mass, radius=0.01*AU, color=color.yellow)"
   ]
  },
  {
   "cell_type": "code",
   "execution_count": null,
   "id": "cad8c70c",
   "metadata": {},
   "outputs": [],
   "source": [
    "#Put planets in the planet list\n",
    "planets = [sun, earth, mercury, venus, sat]\n",
    "\n",
    "for b in planets:\n",
    "    b.accel = vector(0,0,0)\n",
    "    b.track=curve (color = b.color)"
   ]
  },
  {
   "cell_type": "code",
   "execution_count": null,
   "id": "5935ebca",
   "metadata": {},
   "outputs": [],
   "source": [
    "#Set momentum in the centre of mass to zero, by summing the momenta of all other bodies and calculating velocity of \n",
    "#the sun accordingly.\n",
    "\n",
    "sum=vector(0,0,0)\n",
    "for b in planets:\n",
    "    if (b!=sun):\n",
    "        sum=sum+b.mass*b.velocity\n",
    "\n",
    "sun.velocity=-sum/sun.mass\n",
    "\n",
    "#Define the time step dt\n",
    "dt=60.*60.*3\n"
   ]
  },
  {
   "cell_type": "code",
   "execution_count": null,
   "id": "45faddbf",
   "metadata": {},
   "outputs": [],
   "source": [
    "#First we calculate the total initial energy in the system by adding kinetic and potential energy\n",
    "KE_i = 0\n",
    "PE_i = 0\n",
    "E_i = 0\n",
    "for i in planets:\n",
    "    KE_i = KE_i + (0.5*i.mass*i.velocity.mag2)      #Adding the kinetic energy of each body\n",
    "    for j in planets:\n",
    "        if (j != i):\n",
    "            distance = j.pos - i.pos\n",
    "            PE_i = PE_i + (6.67e-11*i.mass*j.mass)/(distance).mag  #Adding the gravitational potential energy of each\n",
    "    E_i = E_i + KE_i + PE_i       #Adding kinetic and potential to get the total initial energy\n",
    "    \n",
    "print(\"Initial Kinetic energy=\", KE_i)\n",
    "print(\"Initial Potential energy=\", PE_i)\n",
    "print(\"Total initial energy=\", E_i)"
   ]
  },
  {
   "cell_type": "markdown",
   "id": "2976ee19",
   "metadata": {},
   "source": [
    "### Leapfrog Calculations"
   ]
  },
  {
   "cell_type": "code",
   "execution_count": null,
   "id": "60116b5c",
   "metadata": {},
   "outputs": [],
   "source": [
    "#Initializing leapfrog.\n",
    "for b in planets:\n",
    "    b.velocity = b.velocity + totalaccel(b, planets)*dt/2.0\n",
    "\n",
    "\n",
    "counter = 0\n",
    "\n",
    "#start leap-frog\n",
    "while True:\n",
    "    rate(50)  \n",
    "    for b in planets:\n",
    "        b.pos = b.pos + b.velocity*dt\n",
    "        b.track.append(pos=b.pos)\n",
    "\n",
    "        b.velocity = b.velocity + totalaccel(b, planets)*dt\n",
    "    \n",
    "    counter = counter + 1\n",
    "    \n",
    "    scene.center = sun.pos #view centered on the origin\n"
   ]
  },
  {
   "cell_type": "markdown",
   "id": "9f9fff3d",
   "metadata": {},
   "source": [
    "### Checking conservation of energy to estimate error"
   ]
  },
  {
   "cell_type": "code",
   "execution_count": null,
   "id": "deee312b",
   "metadata": {},
   "outputs": [],
   "source": [
    "#Calculate the total final energy in the system\n",
    "KE_f = 0\n",
    "PE_f= 0\n",
    "E_f = KE_f + PE_f\n",
    "for i in planets:\n",
    "    KE_f = KE_f + (0.5*i.mass*i.velocity.mag2)      #Adding the kinetic energy of each\n",
    "    for j in planets:\n",
    "        if (j != i):\n",
    "            distance = j.pos - i.pos\n",
    "            PE_f = PE_f + (6.67e-11*i.mass*j.mass)/(distance).mag #Adding gravitational potential energy of each body\n",
    "    E_f = E_f + KE_f + PE_f           #Calculating total final energy as the sum of final kinetic and potential energy\n",
    "    \n",
    "print(\"Final Kinetic energy=\", KE_f)\n",
    "print(\"Final Potential energy=\", PE_f)\n",
    "print(\"Total Final energy=\", E_f)\n",
    "print(\"Difference in total energy is \", ((E_f - E_i)*100)/E_i, \"%\")"
   ]
  },
  {
   "cell_type": "code",
   "execution_count": null,
   "id": "b103f27c",
   "metadata": {},
   "outputs": [],
   "source": []
  }
 ],
 "metadata": {
  "kernelspec": {
   "display_name": "Python 3 (ipykernel)",
   "language": "python",
   "name": "python3"
  },
  "language_info": {
   "codemirror_mode": {
    "name": "ipython",
    "version": 3
   },
   "file_extension": ".py",
   "mimetype": "text/x-python",
   "name": "python",
   "nbconvert_exporter": "python",
   "pygments_lexer": "ipython3",
   "version": "3.9.7"
  }
 },
 "nbformat": 4,
 "nbformat_minor": 5
}
